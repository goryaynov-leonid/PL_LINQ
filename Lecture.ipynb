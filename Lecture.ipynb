{
 "cells": [
  {
   "cell_type": "markdown",
   "id": "ffc48fae",
   "metadata": {},
   "source": [
    "# LINQ ([статья на Metanit](https://metanit.com/sharp/tutorial/15.1.php))\n",
    "**LINQ** (Language-Integrated Query) —  представляет простой и удобный язык запросов к источнику данных. В качестве источника данных может выступать объект, реализующий интерфейс IEnumerable (например, стандартные коллекции, массивы), набор данных DataSet, документ XML. Но вне зависимости от типа источника LINQ позволяет применить ко всем один и тот же подход для выборки данных."
   ]
  },
  {
   "cell_type": "markdown",
   "id": "3f529ca3",
   "metadata": {},
   "source": [
    "Существует несколько разновидностей **LINQ**:\n",
    "\n",
    "- **LINQ to Objects**: применяется для работы с массивами и коллекциями\n",
    "\n",
    "- **LINQ to Entities**: используется при обращении к базам данных через технологию Entity Framework\n",
    "\n",
    "- **LINQ to XML**: применяется при работе с файлами XML\n",
    "\n",
    "- **LINQ to DataSet**: применяется при работе с объектом DataSet\n",
    "\n",
    "- **Parallel LINQ (PLINQ)**: используется для выполнения параллельных запросов"
   ]
  },
  {
   "cell_type": "markdown",
   "id": "aa5fef59",
   "metadata": {},
   "source": [
    "Для работы с колекциями можно использовать два способа:\n",
    "\n",
    "- Операторы запросов LINQ\n",
    "\n",
    "- Методы расширений LINQ"
   ]
  },
  {
   "cell_type": "markdown",
   "id": "bcc713b0",
   "metadata": {},
   "source": [
    "#### Операторы запросов LINQ\n",
    "    var selectedPeople = from p in people // передаем каждый элемент из people в переменную p\n",
    "        where p.ToUpper().StartsWith(\"T\") //фильтрация по критерию\n",
    "        orderby p  // упорядочиваем по возрастанию\n",
    "        select p; // выбираем объект в создаваемую коллекцию"
   ]
  },
  {
   "cell_type": "markdown",
   "id": "8a944725",
   "metadata": {},
   "source": [
    "#### Методы расширения LINQ\n",
    "    var selectedPeople = people.Where(p => p.ToUpper().StartsWith(\"T\")).OrderBy(p => p);"
   ]
  },
  {
   "cell_type": "markdown",
   "id": "851b432a",
   "metadata": {},
   "source": [
    "<details>\n",
    "\n",
    " <summary>Список используемых методов расширения LINQ</summary>\n",
    "\n",
    "- Select: определяет проекцию выбранных значений\n",
    "\n",
    "- Where: определяет фильтр выборки\n",
    "\n",
    "- OrderBy: упорядочивает элементы по возрастанию\n",
    "\n",
    "- OrderByDescending: упорядочивает элементы по убыванию\n",
    "\n",
    "- ThenBy: задает дополнительные критерии для упорядочивания элементов возрастанию\n",
    "\n",
    "- ThenByDescending: задает дополнительные критерии для упорядочивания элементов по убыванию\n",
    "\n",
    "- Join: соединяет две коллекции по определенному признаку\n",
    "\n",
    "- Aggregate: применяет к элементам последовательности агрегатную функцию, которая сводит их к одному объекту\n",
    "\n",
    "- GroupBy: группирует элементы по ключу\n",
    "\n",
    "- ToLookup: группирует элементы по ключу, при этом все элементы добавляются в словарь\n",
    "\n",
    "- GroupJoin: выполняет одновременно соединение коллекций и группировку элементов по ключу\n",
    "\n",
    "- Reverse: располагает элементы в обратном порядке\n",
    "\n",
    "- All: определяет, все ли элементы коллекции удовлятворяют определенному условию\n",
    "\n",
    "- Any: определяет, удовлетворяет хотя бы один элемент коллекции определенному условию\n",
    "\n",
    "- Contains: определяет, содержит ли коллекция определенный элемент\n",
    "\n",
    "- Distinct: удаляет дублирующиеся элементы из коллекции\n",
    "\n",
    "- Except: возвращает разность двух коллекцию, то есть те элементы, которые создаются только в одной коллекции\n",
    "\n",
    "- Union: объединяет две однородные коллекции\n",
    "\n",
    "- Intersect: возвращает пересечение двух коллекций, то есть те элементы, которые встречаются в обоих коллекциях\n",
    "\n",
    "- Count: подсчитывает количество элементов коллекции, которые удовлетворяют определенному условию\n",
    "\n",
    "- Sum: подсчитывает сумму числовых значений в коллекции\n",
    "\n",
    "- Average: подсчитывает cреднее значение числовых значений в коллекции\n",
    "\n",
    "- Min: находит минимальное значение\n",
    "\n",
    "- Max: находит максимальное значение\n",
    "\n",
    "- Take: выбирает определенное количество элементов\n",
    "\n",
    "- Skip: пропускает определенное количество элементов\n",
    "\n",
    "- TakeWhile: возвращает цепочку элементов последовательности, до тех пор, пока условие истинно\n",
    "\n",
    "- SkipWhile: пропускает элементы в последовательности, пока они удовлетворяют заданному условию, и затем возвращает оставшиеся элементы\n",
    "\n",
    "- Concat: объединяет две коллекции\n",
    "\n",
    "- Zip: объединяет две коллекции в соответствии с определенным условием\n",
    "\n",
    "- First: выбирает первый элемент коллекции\n",
    "\n",
    "- FirstOrDefault: выбирает первый элемент коллекции или возвращает значение по умолчанию\n",
    "\n",
    "- Single: выбирает единственный элемент коллекции, если коллекция содержит больше или меньше одного элемента, то генерируется исключение\n",
    "\n",
    "- SingleOrDefault: выбирает единственный элемент коллекции. Если коллекция пуста, возвращает значение по умолчанию. Если в коллекции больше одного элемента, генерирует исключение\n",
    "\n",
    "- ElementAt: выбирает элемент последовательности по определенному индексу\n",
    "\n",
    "- ElementAtOrDefault: выбирает элемент коллекции по определенному индексу или возвращает значение по умолчанию, если индекс вне допустимого диапазона\n",
    "\n",
    "- Last: выбирает последний элемент коллекции\n",
    "\n",
    "- LastOrDefault: выбирает последний элемент коллекции или возвращает значение по умолчанию\n",
    "</details>"
   ]
  },
  {
   "cell_type": "code",
   "execution_count": null,
   "id": "b8460523-1bfa-4a7f-a034-507ef7e20943",
   "metadata": {
    "dotnet_interactive": {
     "language": "csharp"
    }
   },
   "outputs": [],
   "source": [
    "public class Film\n",
    "{\n",
    "    public int? Year {get;set;}\n",
    "    public int? Length {get;set;}\n",
    "    public string Title {get;set;}\n",
    "    public string Subject {get;set;}\n",
    "    public string Actor {get;set;}\n",
    "    public string Actress {get;set;}\n",
    "    public string Director {get;set;}\n",
    "    public int? Popularity {get;set;}\n",
    "    public bool HasAwards {get;set;} \n",
    "\n",
    "    public Film(string[] strings)\n",
    "    {\n",
    "        Year = int.TryParse(strings[0], out var year) ? year : null;\n",
    "        Length = int.TryParse(strings[1], out var length) ? length : null;\n",
    "        Title = strings[2];\n",
    "        Subject = strings[3];\n",
    "        Actor = strings[4];\n",
    "        Actress = strings[5];\n",
    "        Director = strings[6];\n",
    "        Popularity = int.TryParse(strings[7], out var pop) ? pop : null;\n",
    "        HasAwards = strings[8] == \"Yes\";\n",
    "    }\n",
    "}"
   ]
  },
  {
   "cell_type": "markdown",
   "id": "2296bca8",
   "metadata": {},
   "source": [
    "#### Парсинг CSV файла"
   ]
  },
  {
   "cell_type": "code",
   "execution_count": null,
   "id": "b2757922",
   "metadata": {
    "dotnet_interactive": {
     "language": "csharp"
    }
   },
   "outputs": [],
   "source": [
    "var films = System.IO.File.ReadAllLines(\"film.csv\")\n",
    ".Select(x => x.Split(';'))\n",
    ".SkipWhile(x => \n",
    "    {\n",
    "        try \n",
    "        {\n",
    "            var film = new Film(x);\n",
    "        }\n",
    "        catch\n",
    "        {\n",
    "            return true;\n",
    "        }\n",
    "        return false;\n",
    "    })\n",
    ".Select(x => new Film(x));"
   ]
  },
  {
   "cell_type": "markdown",
   "id": "34debed4",
   "metadata": {},
   "source": [
    "#### Среднее значение популярности среди фильмов с наградами и без них"
   ]
  },
  {
   "cell_type": "code",
   "execution_count": null,
   "id": "477416e3",
   "metadata": {
    "dotnet_interactive": {
     "language": "csharp"
    }
   },
   "outputs": [
    {
     "name": "stdout",
     "output_type": "stream",
     "text": [
      "Awarded films AVG pop 41,26993865030675, Not Awarded films AVG pop 43,11010284331518"
     ]
    }
   ],
   "source": [
    "var awarded = films.Where(x => x.HasAwards);\n",
    "var notAwarded = films.Except(awarded);\n",
    "Console.Write(\"Awarded films AVG pop {0}, Not Awarded films AVG pop {1}\", awarded.Average(x => x.Popularity), notAwarded.Average(x => x.Popularity))"
   ]
  },
  {
   "cell_type": "markdown",
   "id": "0fff9da4",
   "metadata": {},
   "source": [
    "#### Отфильтровать фильмы по признаку \"хорошести\""
   ]
  },
  {
   "cell_type": "code",
   "execution_count": null,
   "id": "48094ba6",
   "metadata": {
    "dotnet_interactive": {
     "language": "csharp"
    }
   },
   "outputs": [
    {
     "name": "stdout",
     "output_type": "stream",
     "text": [
      "There are 996 good films"
     ]
    }
   ],
   "source": [
    "public bool IsFilmGood(Film film)\n",
    "{\n",
    "    if (film.Length < 50 || film.Length > 150)\n",
    "        return false;\n",
    "\n",
    "    if (film.Popularity < 30)\n",
    "        return false;\n",
    "    return true; \n",
    "}\n",
    "\n",
    "public delegate bool GoodFunc(Film film);\n",
    "\n",
    "GoodFunc func = new GoodFunc(IsFilmGood);\n",
    "\n",
    "var goodFilms = films.Where(x => func(x));\n",
    "Console.Write(\"There are {0} good films\", goodFilms.Count())"
   ]
  },
  {
   "cell_type": "markdown",
   "id": "88ff4d7b",
   "metadata": {},
   "source": [
    "#### Сгруппировать сущности по году выпуска и длине и вывести в порядке убывания количества элементов в группе"
   ]
  },
  {
   "cell_type": "code",
   "execution_count": null,
   "id": "cbd5a0fe",
   "metadata": {
    "dotnet_interactive": {
     "language": "csharp"
    }
   },
   "outputs": [
    {
     "name": "stdout",
     "output_type": "stream",
     "text": [
      "Year= Length= Count=2\n",
      "Year=1966 Length=103 Count=2\n",
      "Year=1990 Length=111 Count=1\n",
      "Year=1991 Length=113 Count=1\n",
      "Year=1983 Length=104 Count=1\n",
      "Year=1979 Length=122 Count=1\n",
      "Year=1978 Length=94 Count=1\n",
      "Year=1983 Length=140 Count=1\n",
      "Year=1984 Length=101 Count=1\n",
      "Year=1989 Length=99 Count=1\n",
      "Year=1985 Length=104 Count=1\n",
      "Year=1990 Length=149 Count=1\n",
      "Year=1982 Length=188 Count=1\n",
      "Year=1982 Length=117 Count=1\n",
      "Year=1986 Length=112 Count=1\n",
      "Year=1985 Length=112 Count=1\n",
      "Year=1976 Length=150 Count=1\n",
      "Year=1929 Length=84 Count=1"
     ]
    }
   ],
   "source": [
    "Console.Write(string.Join(\"\\n\", films\n",
    ".Take(20)\n",
    ".Select((x, y) => new {index = y, value = x})\n",
    ".GroupBy(x => new { x.value.Year, x.value.Length})\n",
    ".Select(x => new {x.Key, count = x.Count()})\n",
    ".OrderByDescending(x => x.count)\n",
    ".Select(x => string.Format(\"Year={0} Length={1} Count={2}\", x.Key.Year, x.Key.Length, x.count))));"
   ]
  }
 ],
 "metadata": {
  "kernelspec": {
   "display_name": ".NET (C#)",
   "language": "C#",
   "name": ".net-csharp"
  },
  "language_info": {
   "file_extension": ".cs",
   "mimetype": "text/x-csharp",
   "name": "C#",
   "pygments_lexer": "csharp",
   "version": "8.0"
  }
 },
 "nbformat": 4,
 "nbformat_minor": 5
}
